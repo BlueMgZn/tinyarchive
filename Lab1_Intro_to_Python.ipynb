{
  "cells": [
    {
      "cell_type": "markdown",
      "metadata": {
        "id": "view-in-github",
        "colab_type": "text"
      },
      "source": [
        "<a href=\"https://colab.research.google.com/github/BlueMgZn/tinyarchive/blob/main/Lab1_Intro_to_Python.ipynb\" target=\"_parent\"><img src=\"https://colab.research.google.com/assets/colab-badge.svg\" alt=\"Open In Colab\"/></a>"
      ]
    },
    {
      "cell_type": "markdown",
      "metadata": {
        "id": "jszAZlzYRKmp"
      },
      "source": [
        "# LAB 1 - INTRO TO PYTHON\n",
        "\n",
        "This lab is comprised of two parts:\n",
        "\n",
        "- 1) Introduction to Jupyter Notebooks\n",
        "\n",
        "- 2) Python Language and NumPy Library\n"
      ]
    },
    {
      "cell_type": "markdown",
      "metadata": {
        "id": "SGFSlgskRKmr"
      },
      "source": [
        "## 1) INTRODUCTION TO JUPYTER NOTEBOOKS\n",
        "\n",
        "Open the file\n",
        "\n",
        "`\"File -> Open...\"`\n",
        "\n",
        "Navigate to where you saved the files you downloaded for this class and double click on the file.\n",
        "\n",
        "Link will be shared. To run/revise the file, copy to your drive by\n",
        "\n",
        "`\"File -> Save a copy in Drive\"`"
      ]
    },
    {
      "cell_type": "markdown",
      "metadata": {
        "id": "Vr865gw3RKms"
      },
      "source": [
        "### Running notebook cells\n",
        "\n",
        "The notebook is divided into cells. Each cell can contain texts, codes or html scripts. Running a non-code cell simply advances to the next cell. Make sure to type commands always in a Code cell.\n",
        "\n",
        "To run a code cell use `shift + enter` or `ctrl + enter`."
      ]
    },
    {
      "cell_type": "markdown",
      "metadata": {
        "id": "N6cukGazRKmt"
      },
      "source": [
        "1) shift + enter run cell, select below\n",
        "\n",
        "2) ctrl + enter run cell\n",
        "\n",
        "3) option + enter (alt + enter) run cell, insert below"
      ]
    },
    {
      "cell_type": "code",
      "execution_count": null,
      "metadata": {
        "id": "hI4FfAPyRKmv"
      },
      "outputs": [],
      "source": [
        "8*6"
      ]
    },
    {
      "cell_type": "code",
      "execution_count": null,
      "metadata": {
        "id": "wufcwr7SRKmw"
      },
      "outputs": [],
      "source": [
        "2**16"
      ]
    },
    {
      "cell_type": "markdown",
      "metadata": {
        "id": "XmrMJ1PSRKmx"
      },
      "source": [
        "Incomplete command, Jupyter will display a `SyntaxError`"
      ]
    },
    {
      "cell_type": "code",
      "execution_count": null,
      "metadata": {
        "id": "F2NR7spSRKmy"
      },
      "outputs": [],
      "source": [
        "2^"
      ]
    },
    {
      "cell_type": "markdown",
      "metadata": {
        "id": "3pSywUUHRKmz"
      },
      "source": [
        "**EXERCISE:**"
      ]
    },
    {
      "cell_type": "code",
      "execution_count": null,
      "metadata": {
        "id": "MsILML-0RKm0"
      },
      "outputs": [],
      "source": [
        "# Compute 284455 divided by 3.67778\n",
        "284455/3.67778"
      ]
    },
    {
      "cell_type": "markdown",
      "metadata": {
        "id": "vSX7xw1NRKm2"
      },
      "source": [
        "Note: In Python, any text following a hash sign in a code cell is a comment"
      ]
    },
    {
      "cell_type": "markdown",
      "metadata": {
        "id": "YiXU6gqTRKm2"
      },
      "source": [
        "### Interrupting the kernel\n",
        "\n",
        "For debugging, often we would like to interupt the current running process. This can be done by pressing the stop button.\n",
        "\n",
        "Interrupting sometimes does not work. You can reset the state by restarting the kernel. This is done by clicking Runtime/Restart Runtime in the toolbar above."
      ]
    },
    {
      "cell_type": "code",
      "source": [
        "%pip install scipy\n",
        "%pip install --upgrade seaborn"
      ],
      "metadata": {
        "id": "ryJI49SGDbEA"
      },
      "execution_count": null,
      "outputs": []
    },
    {
      "cell_type": "markdown",
      "source": [],
      "metadata": {
        "id": "uSkebwW4aa0K"
      }
    },
    {
      "cell_type": "markdown",
      "metadata": {
        "id": "6422rU7LRKm3"
      },
      "source": [
        "### Undoing\n",
        "\n",
        "To undo changes in each cell, hit `Command-z` for Mac and `Ctrl-z` for Windows.\n",
        "To undo `Delete Cell`, select `Edit->Undo Delete Cell`."
      ]
    },
    {
      "cell_type": "code",
      "source": [],
      "metadata": {
        "id": "iW2osAUfoyuG"
      },
      "execution_count": null,
      "outputs": []
    },
    {
      "cell_type": "markdown",
      "metadata": {
        "id": "X85ts8WYRKm4"
      },
      "source": [
        "### Saving the notebook\n",
        "\n",
        "To save your notebook, either select `\"File->Save and pin revision\"` or hit `Command-s` for Mac and `Ctrl-s` for Windows"
      ]
    },
    {
      "cell_type": "markdown",
      "metadata": {
        "id": "qW2ZKeHfRKm5"
      },
      "source": [
        "### Other Notebook tips\n",
        "- To add a new cell, either select `\"Insert->Insert New Cell Below\"` or click the white plus button\n",
        "- `Tools->Keyboard Shortcuts` has a list of keyboard shortcuts"
      ]
    },
    {
      "cell_type": "markdown",
      "metadata": {
        "id": "C-S4msb0RKm5"
      },
      "source": [
        "## 2) PYTHON LANGUAGE AND NUMPY LIBRARY"
      ]
    },
    {
      "cell_type": "markdown",
      "metadata": {
        "id": "nF5T1iAVRKm5"
      },
      "source": [
        "##  Data Types"
      ]
    },
    {
      "cell_type": "markdown",
      "metadata": {
        "id": "_YqbV8MbRKm6"
      },
      "source": [
        "### Floats and Integers"
      ]
    },
    {
      "cell_type": "code",
      "execution_count": null,
      "metadata": {
        "id": "Ct9iGx39RKm7"
      },
      "outputs": [],
      "source": [
        "x = 4\n",
        "print(x, type(x))"
      ]
    },
    {
      "cell_type": "code",
      "execution_count": null,
      "metadata": {
        "id": "ll93o_hsRKm8"
      },
      "outputs": [],
      "source": [
        "x = 1 / 4\n",
        "print(x, type(x))"
      ]
    },
    {
      "cell_type": "markdown",
      "metadata": {
        "id": "W08One64RKm8"
      },
      "source": [
        "### Strings\n",
        "\n",
        "Double quotes and single quotes are the same thing. Both represent strings. `'+'` concatenates strings"
      ]
    },
    {
      "cell_type": "code",
      "execution_count": null,
      "metadata": {
        "id": "bPRalYCKRKm9"
      },
      "outputs": [],
      "source": [
        "\"IEOR \" + '142'"
      ]
    },
    {
      "cell_type": "markdown",
      "metadata": {
        "id": "M805pbkhRKm9"
      },
      "source": [
        "### Lists\n",
        "\n",
        "A list is a mutable collection of data, which means that we can change it after it is created. A list can be created using square brackets []\n",
        "\n",
        "\n",
        "Important functions:\n",
        "- `'+'` appends lists.\n",
        "- `len(x)` returns the length of a list."
      ]
    },
    {
      "cell_type": "code",
      "execution_count": null,
      "metadata": {
        "id": "wfY23SOfRKm-"
      },
      "outputs": [],
      "source": [
        "x = [\"IEOR\"] + [1, 4, 2]\n",
        "print(x)"
      ]
    },
    {
      "cell_type": "code",
      "execution_count": null,
      "metadata": {
        "id": "pKF3oOvyRKm-"
      },
      "outputs": [],
      "source": [
        "print(len(x))"
      ]
    },
    {
      "cell_type": "code",
      "source": [
        "x = [1,2,3,4]\n",
        "x[1] = 0\n",
        "print(x)"
      ],
      "metadata": {
        "id": "qQn8TQFmGjR-"
      },
      "execution_count": null,
      "outputs": []
    },
    {
      "cell_type": "markdown",
      "metadata": {
        "id": "TFjiVCenRKm_"
      },
      "source": [
        "### Tuples\n",
        "\n",
        "A tuple is an immutable collection of data. They can be created using round brackets ().\n",
        "They are usually used as inputs and outputs to functions."
      ]
    },
    {
      "cell_type": "code",
      "execution_count": null,
      "metadata": {
        "id": "iexJ3wvORKm_"
      },
      "outputs": [],
      "source": [
        "t = (\"I\", \"E\", \"O\", \"R\") + (2, 4, 2)\n",
        "print(t)"
      ]
    },
    {
      "cell_type": "code",
      "execution_count": null,
      "metadata": {
        "id": "x9scO2qVRKnA"
      },
      "outputs": [],
      "source": [
        "# cannot do assignment to a tuple after creation - it's immutable\n",
        "t[4] = 3 # will cause error\n",
        "\n",
        "# Note: errors in notebook appear inline"
      ]
    },
    {
      "cell_type": "markdown",
      "metadata": {
        "id": "KU7081yLRKnB"
      },
      "source": [
        "## Functions and Variables"
      ]
    },
    {
      "cell_type": "markdown",
      "metadata": {
        "id": "qUQXvv_-RKnB"
      },
      "source": [
        "A function can take in several arguments or inputs, and returns an output value.\n",
        "Python has some built-in functions:"
      ]
    },
    {
      "cell_type": "code",
      "execution_count": null,
      "metadata": {
        "id": "YUXAYyZdRKnC"
      },
      "outputs": [],
      "source": [
        "abs(-65)"
      ]
    },
    {
      "cell_type": "code",
      "execution_count": null,
      "metadata": {
        "id": "QPYIBp_JRKnC"
      },
      "outputs": [],
      "source": [
        "max([2, 4, 2])"
      ]
    },
    {
      "cell_type": "code",
      "source": [
        "max(2,3,4,5,6)"
      ],
      "metadata": {
        "id": "Byw5FdQ9G_I9"
      },
      "execution_count": null,
      "outputs": []
    },
    {
      "cell_type": "code",
      "execution_count": null,
      "metadata": {
        "id": "ceG_0i4RRKnD"
      },
      "outputs": [],
      "source": [
        "# Get help on any function:\n",
        "max?"
      ]
    },
    {
      "cell_type": "markdown",
      "metadata": {
        "id": "D2ApkkD6RKnD"
      },
      "source": [
        "Basic variable naming rules:\n",
        "- Don't use spaces (underscores or capital letters instead)\n",
        "- Don't start names with a number\n",
        "- Variable names are case sensitive - capital and lowercase letters are different"
      ]
    },
    {
      "cell_type": "code",
      "source": [],
      "metadata": {
        "id": "uxuFjEQnHeGK"
      },
      "execution_count": null,
      "outputs": []
    },
    {
      "cell_type": "markdown",
      "metadata": {
        "id": "mKOb76HIRKnD"
      },
      "source": [
        "**EXERCISE:**"
      ]
    },
    {
      "cell_type": "code",
      "execution_count": null,
      "metadata": {
        "id": "3rhMobUDRKnE"
      },
      "outputs": [],
      "source": [
        "# Create a variable called \"SecondsDay\" that is equal to the number of\n",
        "# seconds in a day, and output its value.\n",
        "SecondsDay = 24*60*60\n",
        "SecondsDay"
      ]
    },
    {
      "cell_type": "markdown",
      "metadata": {
        "id": "oNPK0RxCRKnE"
      },
      "source": [
        "### User-defined Functions\n",
        "We can define functions ourselves, by using def and passing the expected inputs, as well as stating the returned output. In this example we create a function that takes two numbers x and y, and returns the sum."
      ]
    },
    {
      "cell_type": "code",
      "execution_count": null,
      "metadata": {
        "id": "LwYNOCNdRKnE"
      },
      "outputs": [],
      "source": [
        "def my_function(x, y):\n",
        "\n",
        "    result = x+y\n",
        "\n",
        "    return result"
      ]
    },
    {
      "cell_type": "code",
      "execution_count": null,
      "metadata": {
        "id": "UywwD3zWRKnF"
      },
      "outputs": [],
      "source": [
        "my_function(5, 3)"
      ]
    },
    {
      "cell_type": "code",
      "source": [
        "my_function(-1.3, 4.7)"
      ],
      "metadata": {
        "id": "1qptgJkWIkSB"
      },
      "execution_count": null,
      "outputs": []
    },
    {
      "cell_type": "markdown",
      "metadata": {
        "id": "omcW7IttRKnF"
      },
      "source": [
        "## Linear Algebra with NumPy\n",
        "\n",
        "The numpy array, aka an \"ndarray\", is like a list with multidimensional support and more functions.\n",
        "https://numpy.org/doc/stable/reference/routines.linalg.html\n",
        "\n",
        "Important NumPy Array functions:\n",
        "\n",
        "- `.shape` returns the dimensions of the array.\n",
        "\n",
        "- `.ndim` returns the number of dimensions.\n",
        "\n",
        "- `.size` returns the number of entries in the array.\n",
        "\n",
        "- `len()` returns the first dimension.\n",
        "\n",
        "\n",
        "To use functions in NumPy, we have to import NumPy to our workspace. This is done by the command `import numpy`. By convention, we rename `numpy` as `np` for convenience."
      ]
    },
    {
      "cell_type": "markdown",
      "metadata": {
        "id": "tK2IWPWbRKnG"
      },
      "source": [
        "### Arrays"
      ]
    },
    {
      "cell_type": "markdown",
      "metadata": {
        "id": "vYbtdy-lRKnH"
      },
      "source": [
        "NumPy arrays are made up of two parts:\n",
        "* **data buffer**: block of raw elements (numbers)\n",
        "* **view**: how NumPy interprets the data buffer"
      ]
    },
    {
      "cell_type": "code",
      "execution_count": null,
      "metadata": {
        "id": "ySIOPRj4RKnH"
      },
      "outputs": [],
      "source": [
        "import numpy as np\n",
        "\n",
        "a = np.array([1,2,3]) # NumPy array indexed by single element from 0 to 2\n",
        "a"
      ]
    },
    {
      "cell_type": "code",
      "execution_count": null,
      "metadata": {
        "id": "wyK_h48FRKnH"
      },
      "outputs": [],
      "source": [
        "a.shape"
      ]
    },
    {
      "cell_type": "code",
      "execution_count": null,
      "metadata": {
        "id": "yMnvHFaARKnI"
      },
      "outputs": [],
      "source": [
        "a[1]"
      ]
    },
    {
      "cell_type": "code",
      "execution_count": null,
      "metadata": {
        "id": "MxNoq-OXRKnI"
      },
      "outputs": [],
      "source": [
        "a[0, 1]\n",
        "# Will result in an error because we have NOT\n",
        "# reshaped the 'view' of the data in matrix form"
      ]
    },
    {
      "cell_type": "code",
      "source": [],
      "metadata": {
        "id": "n6l9cyUsPrhz"
      },
      "execution_count": null,
      "outputs": []
    },
    {
      "cell_type": "code",
      "execution_count": null,
      "metadata": {
        "id": "gzw7g9h4RKnJ"
      },
      "outputs": [],
      "source": [
        "a = a.reshape(1,3) # Now we reshaped to a 1x3 matrix\n",
        "a"
      ]
    },
    {
      "cell_type": "code",
      "execution_count": null,
      "metadata": {
        "id": "GLsdKc-vRKnJ"
      },
      "outputs": [],
      "source": [
        "a.shape"
      ]
    },
    {
      "cell_type": "code",
      "execution_count": null,
      "metadata": {
        "id": "hOKwydC6RKnJ"
      },
      "outputs": [],
      "source": [
        "a[0, 1] # Now we can index by [i, j] from the newly shaped matrix"
      ]
    },
    {
      "cell_type": "code",
      "execution_count": null,
      "metadata": {
        "id": "TUmqVUCJRKnJ"
      },
      "outputs": [],
      "source": [
        "# Multiplication of a constant and a vector\n",
        "a = np.array([1,2,3])\n",
        "2*a"
      ]
    },
    {
      "cell_type": "code",
      "execution_count": null,
      "metadata": {
        "id": "N6Qa853GRKnK"
      },
      "outputs": [],
      "source": [
        "# Element-wise multiplication\n",
        "b = np.array([3,3,3])\n",
        "np.multiply(a,b)"
      ]
    },
    {
      "cell_type": "code",
      "source": [
        "c = np.array([2, 5, 3])\n",
        "np.multiply(a,c)"
      ],
      "metadata": {
        "id": "j20GFw74QLGt"
      },
      "execution_count": null,
      "outputs": []
    },
    {
      "cell_type": "markdown",
      "metadata": {
        "id": "MS072oTMRKnK"
      },
      "source": [
        "Note: The two examples we did above touch the essense of two important concepts in NumPy array -- vectorization and broadcasting.\n",
        "\n",
        "It is a good habit to employ vectorization and broadcasting whenever possible when dealing with linear algebra in NumPy. It will avoid unnecessary loops and significantly improve the efficiency of your code.\n",
        "\n",
        "Read more of the documentation at https://numpy.org/doc/stable/user/basics.broadcasting.html"
      ]
    },
    {
      "cell_type": "code",
      "execution_count": null,
      "metadata": {
        "id": "fk12QkpiRKnL"
      },
      "outputs": [],
      "source": [
        "# Inner product\n",
        "inner_product = np.dot(a,b)\n",
        "print(inner_product)"
      ]
    },
    {
      "cell_type": "markdown",
      "source": [
        "**For-Loop**"
      ],
      "metadata": {
        "id": "r6oNzFy5QqFM"
      }
    },
    {
      "cell_type": "code",
      "source": [
        "n = len(a)\n",
        "\n",
        "# 2*a : constant * vector\n",
        "r1 = a.copy() # NumPy does not copy, bind the array\n",
        "for i in range(n): # i=0,1,...,n-1\n",
        "  r1[i] = 2*a[i]\n",
        "print(f'r1={r1}')"
      ],
      "metadata": {
        "id": "vvMsWvFHQlat"
      },
      "execution_count": null,
      "outputs": []
    },
    {
      "cell_type": "code",
      "source": [
        "# np.multiply(a,b) : elementwise multiplication\n"
      ],
      "metadata": {
        "id": "Z9H5gQdIsu_v"
      },
      "execution_count": null,
      "outputs": []
    },
    {
      "cell_type": "markdown",
      "source": [
        "### Initializing numpy"
      ],
      "metadata": {
        "id": "WrzXJkUrkpUG"
      }
    },
    {
      "cell_type": "code",
      "source": [
        "np.linspace(0,2,9) \t#Add evenly spaced values btw interval to array of length"
      ],
      "metadata": {
        "id": "nb_E0PytkyYl"
      },
      "execution_count": null,
      "outputs": []
    },
    {
      "cell_type": "code",
      "source": [
        "np.zeros((1,2)) \t#Create and array filled with zeros"
      ],
      "metadata": {
        "id": "6Amv9WRik7X-"
      },
      "execution_count": null,
      "outputs": []
    },
    {
      "cell_type": "code",
      "source": [
        "np.ones((1,2)) \t#Creates an array filled with ones"
      ],
      "metadata": {
        "id": "6dkZInCGk9lF"
      },
      "execution_count": null,
      "outputs": []
    },
    {
      "cell_type": "code",
      "source": [
        "np.random.random((5,5)) \t#Creates random array"
      ],
      "metadata": {
        "id": "aLw6mryGk_9k"
      },
      "execution_count": null,
      "outputs": []
    },
    {
      "cell_type": "code",
      "source": [
        "np.empty((2,2)) \t#Creates an empty array"
      ],
      "metadata": {
        "id": "wzoWBFY0lBsu"
      },
      "execution_count": null,
      "outputs": []
    },
    {
      "cell_type": "markdown",
      "metadata": {
        "id": "rSP7Gq7mRKnM"
      },
      "source": [
        "### Slicing\n",
        "\n",
        "NumPy uses pass-by-reference semantics so it creates views into the existing array, without implicit copying. This is particularly helpful with very large arrays because copying can be slow."
      ]
    },
    {
      "cell_type": "code",
      "execution_count": null,
      "metadata": {
        "id": "mxp67vfpRKnM"
      },
      "outputs": [],
      "source": [
        "x = np.array([1, 2, 3, 4])\n",
        "x"
      ]
    },
    {
      "cell_type": "code",
      "execution_count": null,
      "metadata": {
        "id": "2DHLLTk4RKnN"
      },
      "outputs": [],
      "source": [
        "y = x[0:3]"
      ]
    },
    {
      "cell_type": "code",
      "execution_count": null,
      "metadata": {
        "id": "389UIUpFRKnN"
      },
      "outputs": [],
      "source": [
        "y"
      ]
    },
    {
      "cell_type": "code",
      "execution_count": null,
      "metadata": {
        "id": "1W7X1iY1RKnO"
      },
      "outputs": [],
      "source": [
        "y[0] = 1000\n",
        "y"
      ]
    },
    {
      "cell_type": "code",
      "execution_count": null,
      "metadata": {
        "id": "tSIDg51cRKnO"
      },
      "outputs": [],
      "source": [
        "x # Note that changing NumPy array y changes NumPy array x"
      ]
    },
    {
      "cell_type": "markdown",
      "metadata": {
        "id": "goWwETKKRKnP"
      },
      "source": [
        "Notes: since slicing does not copy the array, any change made to `y` would also change `x`. To create an object `y` that does not bind with the original object `x`, one need to make a copy of `x`.\n",
        "\n",
        "To achieve this, one should use `.copy()` from the `copy` library. (Documentation: https://docs.python.org/3/library/copy.html)"
      ]
    },
    {
      "cell_type": "code",
      "source": [],
      "metadata": {
        "id": "ew_EIGCIZwYE"
      },
      "execution_count": null,
      "outputs": []
    },
    {
      "cell_type": "markdown",
      "metadata": {
        "id": "wsY90Ov1RKnP"
      },
      "source": [
        "### Matrices"
      ]
    },
    {
      "cell_type": "code",
      "execution_count": null,
      "metadata": {
        "id": "n9s9Kq4URKnP"
      },
      "outputs": [],
      "source": [
        "# Create a matrix\n",
        "A = np.array([[1, 2, 8],\n",
        "             [3, 2, 9]])\n",
        "print(A)"
      ]
    },
    {
      "cell_type": "code",
      "execution_count": null,
      "metadata": {
        "id": "cDYuhGHcRKnQ"
      },
      "outputs": [],
      "source": [
        "A.shape"
      ]
    },
    {
      "cell_type": "code",
      "execution_count": null,
      "metadata": {
        "id": "gTXDpB1aRKnQ"
      },
      "outputs": [],
      "source": [
        "# Matrix multiplication\n",
        "B = np.array([[1, 2],\n",
        "              [3, 8],\n",
        "              [2, 9]])\n",
        "\n",
        "print(B.shape)\n",
        "\n",
        "# There are two ways to perform matrix multiplication: C = A@B -> C[i,j] = sum(A[i,k]*B[k,j] forall k)\n",
        "print(np.matmul(A,B))\n",
        "\n",
        "# Alternatively:\n",
        "print(A@B)"
      ]
    },
    {
      "cell_type": "code",
      "execution_count": null,
      "metadata": {
        "id": "pKkQQtZZRKnY"
      },
      "outputs": [],
      "source": [
        "# Transpose a matrix\n",
        "A.T"
      ]
    },
    {
      "cell_type": "code",
      "execution_count": null,
      "metadata": {
        "id": "lwgIaOXYRKnZ"
      },
      "outputs": [],
      "source": [
        "# Compute the inverse - np.linalg : NumPy linear algebra functions\n",
        "C = np.array([[1, 2],\n",
        "             [3, 2]])\n",
        "D = np.linalg.inv(C)\n",
        "\n",
        "C@D # Remember A*A^-1 = I (for square matrices)"
      ]
    },
    {
      "cell_type": "code",
      "execution_count": null,
      "metadata": {
        "scrolled": true,
        "id": "laNDkcTkRKnZ"
      },
      "outputs": [],
      "source": [
        "# Reshape 1-d NumPy Array to 2-d matrix\n",
        "X = np.array([1,2,3])\n",
        "print(X)\n",
        "print(X.shape)"
      ]
    },
    {
      "cell_type": "code",
      "execution_count": null,
      "metadata": {
        "id": "NWjikoyaRKna"
      },
      "outputs": [],
      "source": [
        "Y = np.reshape(X,(-1,1))\n",
        "print(Y)\n",
        "print(Y.shape)\n",
        "# This technique is useful when you want to convert a 1-d vector to a 2-d array (a matrix with only 1 column)."
      ]
    },
    {
      "cell_type": "code",
      "source": [],
      "metadata": {
        "id": "2HlZ8svqbR_i"
      },
      "execution_count": null,
      "outputs": []
    },
    {
      "cell_type": "markdown",
      "source": [
        "### If-Loop"
      ],
      "metadata": {
        "id": "m3LI0U89mQUD"
      }
    },
    {
      "cell_type": "code",
      "source": [
        "x = 3\n",
        "y = 5\n",
        "if x>y:\n",
        "  print('x is greater than y')\n",
        "elif x==y:\n",
        "  print('x is equal to y')\n",
        "else:\n",
        "  print('x is smaller than y')"
      ],
      "metadata": {
        "id": "3qpa6BRutJK3"
      },
      "execution_count": null,
      "outputs": []
    },
    {
      "cell_type": "markdown",
      "source": [
        "### Exercise\n",
        "\n",
        "Given two numpy arrays x and y, compare them elementwise and print out a numpy array z that the i-th element is 1 if the i-th element of x is strictly larger than the i-th element of y, and 0 otherwise. If length of x and y are different, compare up to the length of the shorter array."
      ],
      "metadata": {
        "id": "3uX4_Evnme3R"
      }
    },
    {
      "cell_type": "code",
      "source": [],
      "metadata": {
        "id": "Nlq0_AcMmS1O"
      },
      "execution_count": null,
      "outputs": []
    },
    {
      "cell_type": "code",
      "source": [],
      "metadata": {
        "id": "T4b1qIG1nw2l"
      },
      "execution_count": null,
      "outputs": []
    },
    {
      "cell_type": "markdown",
      "source": [
        "# **EXERCISE:**"
      ],
      "metadata": {
        "id": "Q8BTTJfoj1MD"
      }
    },
    {
      "cell_type": "markdown",
      "source": [
        "Q1. Calculate following problems using Python."
      ],
      "metadata": {
        "id": "WQxRPfr6j5lt"
      }
    },
    {
      "cell_type": "markdown",
      "source": [
        "(a) $1.3 \\times 2.5 \\div 3$"
      ],
      "metadata": {
        "id": "xNlJhDCOj-Xi"
      }
    },
    {
      "cell_type": "markdown",
      "source": [
        "(b) $5.3 \\times 2 + 4.2^3$"
      ],
      "metadata": {
        "id": "23FoOVYij_UE"
      }
    },
    {
      "cell_type": "markdown",
      "source": [
        "(c) $\\max(2.5^3 \\times 3.1, 4.2^2 \\times 2.7)$"
      ],
      "metadata": {
        "id": "r4Vg6Zq3kCCE"
      }
    },
    {
      "cell_type": "markdown",
      "source": [
        "Q2. Define a function using a for-loop that returns np.dot(a,b) for any input arrays a and b.  \n",
        "* Note: a and b have the same length, but the length can be any positive integer. Don't use NumPy."
      ],
      "metadata": {
        "id": "GA0PylFLkE3S"
      }
    },
    {
      "cell_type": "markdown",
      "source": [
        "Q3. Write a function that  to test whether two arrays are element-wise equal within a tolerance. (input: two arrays a,b & tolerance t)"
      ],
      "metadata": {
        "id": "vAvxOyvgkODZ"
      }
    },
    {
      "cell_type": "markdown",
      "metadata": {
        "id": "pRimdKv8RKnr"
      },
      "source": [
        "# References\n",
        "- [1] Special thanks to the [EECS127 Fall 2019](https://inst.eecs.berkeley.edu/~ee127/fa19/) for providing a great starting point for Intro to Jupyter\n",
        "- [2] D-lab intro to pandas\n",
        "- [3] The official Python 3 language documentation. [Link](https://docs.python.org/3/).\n",
        "- [4] The official numpy and scipy documentation. [Link](https://docs.scipy.org/doc/).\n",
        "\n",
        "\n"
      ]
    }
  ],
  "metadata": {
    "kernelspec": {
      "display_name": "Python 3",
      "language": "python",
      "name": "python3"
    },
    "language_info": {
      "codemirror_mode": {
        "name": "ipython",
        "version": 3
      },
      "file_extension": ".py",
      "mimetype": "text/x-python",
      "name": "python",
      "nbconvert_exporter": "python",
      "pygments_lexer": "ipython3",
      "version": "3.8.8"
    },
    "colab": {
      "provenance": [],
      "include_colab_link": true
    }
  },
  "nbformat": 4,
  "nbformat_minor": 0
}